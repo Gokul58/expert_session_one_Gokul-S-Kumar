{
 "cells": [
  {
   "cell_type": "markdown",
   "id": "b9cb7c1d",
   "metadata": {},
   "source": [
    "# Database Preparation"
   ]
  },
  {
   "cell_type": "markdown",
   "id": "c825517b",
   "metadata": {},
   "source": [
    "### In this notebook we will prepare our data for our search function to use.\n",
    "### Currently we have data stored in two different csv files."
   ]
  },
  {
   "cell_type": "markdown",
   "id": "3079d0a8",
   "metadata": {},
   "source": [
    "* cars.csv"
   ]
  },
  {
   "cell_type": "markdown",
   "id": "53d18f54",
   "metadata": {},
   "source": [
    "* newcars.csv\n",
    "\n",
    "\n",
    "It can be computationally expensive to produce analysis results from multiple data-sources for incomming stream of requests.\n",
    "So we will prepare our data and save it in an easily searchable structure"
   ]
  },
  {
   "cell_type": "code",
   "execution_count": 3,
   "id": "16424b78",
   "metadata": {},
   "outputs": [],
   "source": [
    "# Import the needed modules...\n",
    "import pandas as pd\n",
    "from collections import defaultdict\n",
    "from os import getcwd"
   ]
  },
  {
   "cell_type": "markdown",
   "id": "ad9894d8",
   "metadata": {},
   "source": [
    "## Define Paths to data files."
   ]
  },
  {
   "cell_type": "code",
   "execution_count": 4,
   "id": "46249cea",
   "metadata": {},
   "outputs": [],
   "source": [
    "PATH_CARS   = f\"{getcwd()}/datastore/cars.csv\"\n",
    "PATH_NEWCARS  = f\"{getcwd()}/datastore/newcars.csv\""
   ]
  },
  {
   "cell_type": "markdown",
   "id": "340dd9a0",
   "metadata": {},
   "source": [
    "## Data Engineering\n",
    "* Get data in dataframes.\n",
    "* Convert data to a single dictionary."
   ]
  },
  {
   "cell_type": "code",
   "execution_count": 5,
   "id": "07bd89e3",
   "metadata": {},
   "outputs": [
    {
     "name": "stdout",
     "output_type": "stream",
     "text": [
      "COLUMNS : ['id', 'car_name', 'yr_mfr', 'fuel_type', 'kms_run', 'sale_price', 'city', 'times_viewed', 'body_type', 'transmission', 'variant', 'assured_buy', 'registered_city', 'registered_state', 'is_hot', 'rto', 'source', 'make', 'model', 'car_availability', 'total_owners', 'broker_quote', 'original_price', 'car_rating', 'ad_created_on', 'fitness_certificate', 'emi_starts_from', 'booking_down_pymnt', 'reserved', 'warranty_avail']\n"
     ]
    }
   ],
   "source": [
    "\"\"\"\n",
    "    Read data from cars.csv\n",
    "\"\"\"\n",
    "df_cars            = pd.read_csv(PATH_CARS)\n",
    "cars_table_columns = df_cars.columns.tolist()\n",
    "print(f\"COLUMNS : {cars_table_columns}\")"
   ]
  },
  {
   "cell_type": "code",
   "execution_count": 6,
   "id": "81f7464d",
   "metadata": {},
   "outputs": [
    {
     "name": "stdout",
     "output_type": "stream",
     "text": [
      "COLUMNS : ['id', 'car_name', 'yr_mfr', 'fuel_type', 'kms_run', 'sale_price', 'city', 'times_viewed', 'body_type', 'transmission', 'variant', 'assured_buy', 'registered_city', 'registered_state', 'is_hot', 'rto', 'source', 'make', 'model', 'car_availability', 'total_owners', 'broker_quote', 'original_price', 'car_rating', 'ad_created_on', 'fitness_certificate', 'emi_starts_from', 'booking_down_pymnt', 'reserved', 'warranty_avail']\n"
     ]
    }
   ],
   "source": [
    "\"\"\"\n",
    "    Read data from newcars.csv\n",
    "\"\"\"\n",
    "df_newcars          = pd.read_csv(PATH_NEWCARS)\n",
    "newcars_table_columns = df_newcars.columns.tolist()\n",
    "print(f\"COLUMNS : {newcars_table_columns}\")"
   ]
  },
  {
   "cell_type": "markdown",
   "id": "55d2687f",
   "metadata": {},
   "source": [
    "* \"id\" is a common column in both the tables so we will use it as a primary \n",
    "   search-key\n",
    "*  A user will always search a car by its \"car_name\" so we will create a        GLOBAL SECONDARY INDEX to be able to perform search our datastore     "
   ]
  },
  {
   "cell_type": "code",
   "execution_count": 7,
   "id": "0e9b7eb1",
   "metadata": {},
   "outputs": [
    {
     "name": "stdout",
     "output_type": "stream",
     "text": [
      "It is True  that the column 'id' has unique values for all entries in cars dataframe.\n",
      "It is True  that the column 'id' has unique values for all entries in newcars dataframe.\n"
     ]
    }
   ],
   "source": [
    "print(f\"It is {pd.Series(df_cars['id']).is_unique}  that the column 'id' has unique values for all entries in cars dataframe.\")\n",
    "print(f\"It is {pd.Series(df_newcars['id']).is_unique}  that the column 'id' has unique values for all entries in newcars dataframe.\")"
   ]
  },
  {
   "cell_type": "code",
   "execution_count": 8,
   "id": "c7f9ea2c",
   "metadata": {},
   "outputs": [],
   "source": [
    "# Sort cars dataframe on the basis of id as id is unique for all entries...\n",
    "df_cars_sorted = df_cars.sort_values(by=['id'])\n",
    "\n",
    "# Sort newcars dataframe on the basis of id as id is unique for all entries...\n",
    "df_newcars_sorted  = df_newcars.sort_values(by=['id'])"
   ]
  },
  {
   "cell_type": "code",
   "execution_count": 9,
   "id": "86a373f5",
   "metadata": {},
   "outputs": [],
   "source": [
    "# from cars dataframe...\n",
    "carsIds    = df_cars_sorted[\"id\"].tolist()\n",
    "carnamess = df_cars_sorted[\"car_name\"].tolist()\n",
    "fueltypes = [fueltype.split(\"|\") for fueltype in df_cars[\"fuel_type\"].tolist()]\n",
    "\n",
    "# from newcars dataframe...\n",
    "car_rating  = df_newcars_sorted[\"car_rating\"].tolist()\n",
    "original_price = df_newcars_sorted[\"original_price\"].tolist()"
   ]
  },
  {
   "cell_type": "code",
   "execution_count": 21,
   "id": "ce8f9ad9",
   "metadata": {},
   "outputs": [],
   "source": [
    "carsDict             = {}\n",
    "global_secondaryIndex = {}\n",
    "for idx, id in enumerate(carsIds):\n",
    "    carsDict[id] = {\n",
    "        \"fueltype\" : fueltypes[idx],\n",
    "        \"newcars\" : {\n",
    "            \"car_rating\" : car_rating[idx], \n",
    "            \"original_price\" : original_price[idx]\n",
    "        }\n",
    "    }\n",
    "    \n",
    "    global_secondaryIndex[carnamess[idx]] = id"
   ]
  },
  {
   "cell_type": "code",
   "execution_count": 22,
   "id": "2f785102",
   "metadata": {},
   "outputs": [],
   "source": [
    "# delete veriables which are no longer in use while holding large amount of data.\n",
    "del carsIds\n",
    "del carnamess\n",
    "del fueltypes\n",
    "del car_rating\n",
    "del original_price\n"
   ]
  },
  {
   "cell_type": "code",
   "execution_count": 26,
   "id": "b9e2a165",
   "metadata": {},
   "outputs": [
    {
     "name": "stdout",
     "output_type": "stream",
     "text": [
      "[INFO] Writing car Data into the disk...\n",
      "[INFO] Writing Global Secondary Index Data into the disk...\n"
     ]
    }
   ],
   "source": [
    "import json\n",
    "print(\"[INFO] Writing car Data into the disk...\")\n",
    "with open('dataStore/dataFinal.json', 'w') as fp:\n",
    "    json.dump(carsDict, fp, sort_keys=True, indent=4)\n",
    "print(\"[INFO] Writing Global Secondary Index Data into the disk...\")\n",
    "with open('dataStore/dataFinal_GIS.json', 'w') as fp:\n",
    "    json.dump(global_secondaryIndex, fp, sort_keys=True, indent=4)"
   ]
  },
  {
   "cell_type": "markdown",
   "id": "f8e1e6ae",
   "metadata": {},
   "source": [
    "<b>At this point, our database is ready and it can handle high inflow of requests.</b>"
   ]
  },
  {
   "cell_type": "code",
   "execution_count": null,
   "id": "5757a60b",
   "metadata": {},
   "outputs": [],
   "source": []
  }
 ],
 "metadata": {
  "kernelspec": {
   "display_name": "Python 3",
   "language": "python",
   "name": "python3"
  },
  "language_info": {
   "codemirror_mode": {
    "name": "ipython",
    "version": 3
   },
   "file_extension": ".py",
   "mimetype": "text/x-python",
   "name": "python",
   "nbconvert_exporter": "python",
   "pygments_lexer": "ipython3",
   "version": "3.8.8"
  }
 },
 "nbformat": 4,
 "nbformat_minor": 5
}
